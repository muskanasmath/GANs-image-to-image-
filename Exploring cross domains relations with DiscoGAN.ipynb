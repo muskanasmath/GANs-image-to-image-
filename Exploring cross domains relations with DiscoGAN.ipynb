{
 "cells": [
  {
   "cell_type": "markdown",
   "metadata": {},
   "source": [
    "In May 2017, Taeksoo Kim & al. published a way to learn discover domain relation with Generative Adversial Networks: \n",
    "https://arxiv.org/pdf/1703.05192.pdf . Let's try to implement this nice paper and get nice results."
   ]
  },
  {
   "cell_type": "markdown",
   "metadata": {},
   "source": [
    "## 1. DiscoGAN Architecture ##"
   ]
  },
  {
   "cell_type": "markdown",
   "metadata": {},
   "source": [
    "The initial idea is to used a standard GAN architecture to transform picture from one domain to another. "
   ]
  },
  {
   "cell_type": "code",
   "execution_count": 1,
   "metadata": {},
   "outputs": [
    {
     "data": {
      "text/html": [
       "<img src=\"./gan1.png\" width=\"500\" height=\"250\"/>"
      ],
      "text/plain": [
       "<IPython.core.display.Image object>"
      ]
     },
     "execution_count": 1,
     "metadata": {},
     "output_type": "execute_result"
    }
   ],
   "source": [
    "from IPython.display import Image\n",
    "from IPython.core.display import HTML \n",
    "Image(url= \"./gan1.png\",width=500, height=250)"
   ]
  },
  {
   "cell_type": "markdown",
   "metadata": {},
   "source": [
    "Unfortunately the equality GBA ◦ GAB(xA) = xA should be satisfied, but this hard constraint is difficult to optimize. For this reason, we minimize the distance d(GBA ◦ GAB(xA),xA), where any form of metric function (L1, L2, Huber loss) can be used. For this reason, we minimize the distance d(GBA ◦ GAB(xA),xA), where any form of metric function (L1, L2, Huber loss) can be used."
   ]
  },
  {
   "cell_type": "code",
   "execution_count": 2,
   "metadata": {},
   "outputs": [
    {
     "data": {
      "text/html": [
       "<img src=\"./gan2.png\" width=\"500\" height=\"250\"/>"
      ],
      "text/plain": [
       "<IPython.core.display.Image object>"
      ]
     },
     "execution_count": 2,
     "metadata": {},
     "output_type": "execute_result"
    }
   ],
   "source": [
    "Image(url= \"./gan2.png\",width=500, height=250)"
   ]
  },
  {
   "cell_type": "markdown",
   "metadata": {},
   "source": [
    "As the application must be bijective between domain A to domain B, we also need tov minimized(GAB ◦GBA(xB),xB):"
   ]
  },
  {
   "cell_type": "code",
   "execution_count": 3,
   "metadata": {},
   "outputs": [
    {
     "data": {
      "text/html": [
       "<img src=\"./gan3.png\" width=\"500\" height=\"250\"/>"
      ],
      "text/plain": [
       "<IPython.core.display.Image object>"
      ]
     },
     "execution_count": 3,
     "metadata": {},
     "output_type": "execute_result"
    }
   ],
   "source": [
    "Image(url= \"./gan3.png\",width=500, height=250)"
   ]
  },
  {
   "cell_type": "markdown",
   "metadata": {},
   "source": [
    "This is the model exposed in the paper. We hence have 2 generators ($G_{AB}$ and $G_{BA}$), and two discriminators $D_A$ and $D_B$."
   ]
  },
  {
   "cell_type": "markdown",
   "metadata": {},
   "source": [
    "## 2. Implementation ##\n"
   ]
  },
  {
   "cell_type": "markdown",
   "metadata": {},
   "source": [
    "Let's build the generators. COmpared to standard GAN, the generators here take a picture as input instead of random Gaussian noise z. Each generator is composed of an encoder and a decoder. The official paper implementation mentions 4 conv2 layer followed by 4 ConvTranspose2d layers, use leakyrelu for the encoder part et Relu for decoder part."
   ]
  },
  {
   "cell_type": "code",
   "execution_count": 4,
   "metadata": {},
   "outputs": [
    {
     "name": "stderr",
     "output_type": "stream",
     "text": [
      "/usr/local/lib/python3.6/site-packages/h5py/__init__.py:36: FutureWarning: Conversion of the second argument of issubdtype from `float` to `np.floating` is deprecated. In future, it will be treated as `np.float64 == np.dtype(float).type`.\n",
      "  from ._conv import register_converters as _register_converters\n",
      "Using TensorFlow backend.\n"
     ]
    }
   ],
   "source": [
    "import numpy as np\n",
    "from keras.datasets import mnist\n",
    "from keras.layers import Input, Dense, Reshape, Flatten, Dropout\n",
    "from keras.layers import BatchNormalization, Activation, ZeroPadding2D\n",
    "from keras.layers.advanced_activations import LeakyReLU\n",
    "from keras.layers.convolutional import UpSampling2D, Conv2D, Conv2DTranspose\n",
    "from keras.models import Sequential, Model\n",
    "from keras.backend import resize_images\n",
    "from keras.initializers import RandomNormal\n",
    "\n",
    "from keras.optimizers import Adam,RMSprop"
   ]
  },
  {
   "cell_type": "code",
   "execution_count": 9,
   "metadata": {},
   "outputs": [
    {
     "name": "stdout",
     "output_type": "stream",
     "text": [
      "_________________________________________________________________\n",
      "Layer (type)                 Output Shape              Param #   \n",
      "=================================================================\n",
      "conv2d_7 (Conv2D)            (None, 64, 64, 64)        3136      \n",
      "_________________________________________________________________\n",
      "leaky_re_lu_5 (LeakyReLU)    (None, 64, 64, 64)        0         \n",
      "_________________________________________________________________\n",
      "conv2d_8 (Conv2D)            (None, 32, 32, 128)       131200    \n",
      "_________________________________________________________________\n",
      "batch_normalization_8 (Batch (None, 32, 32, 128)       512       \n",
      "_________________________________________________________________\n",
      "leaky_re_lu_6 (LeakyReLU)    (None, 32, 32, 128)       0         \n",
      "_________________________________________________________________\n",
      "conv2d_9 (Conv2D)            (None, 16, 16, 256)       524544    \n",
      "_________________________________________________________________\n",
      "batch_normalization_9 (Batch (None, 16, 16, 256)       1024      \n",
      "_________________________________________________________________\n",
      "leaky_re_lu_7 (LeakyReLU)    (None, 16, 16, 256)       0         \n",
      "_________________________________________________________________\n",
      "conv2d_10 (Conv2D)           (None, 8, 8, 512)         2097664   \n",
      "_________________________________________________________________\n",
      "batch_normalization_10 (Batc (None, 8, 8, 512)         2048      \n",
      "_________________________________________________________________\n",
      "leaky_re_lu_8 (LeakyReLU)    (None, 8, 8, 512)         0         \n",
      "_________________________________________________________________\n",
      "conv2d_transpose_5 (Conv2DTr (None, 16, 16, 256)       2097408   \n",
      "_________________________________________________________________\n",
      "batch_normalization_11 (Batc (None, 16, 16, 256)       1024      \n",
      "_________________________________________________________________\n",
      "activation_5 (Activation)    (None, 16, 16, 256)       0         \n",
      "_________________________________________________________________\n",
      "conv2d_transpose_6 (Conv2DTr (None, 32, 32, 128)       524416    \n",
      "_________________________________________________________________\n",
      "batch_normalization_12 (Batc (None, 32, 32, 128)       512       \n",
      "_________________________________________________________________\n",
      "activation_6 (Activation)    (None, 32, 32, 128)       0         \n",
      "_________________________________________________________________\n",
      "conv2d_transpose_7 (Conv2DTr (None, 64, 64, 64)        131136    \n",
      "_________________________________________________________________\n",
      "batch_normalization_13 (Batc (None, 64, 64, 64)        256       \n",
      "_________________________________________________________________\n",
      "activation_7 (Activation)    (None, 64, 64, 64)        0         \n",
      "_________________________________________________________________\n",
      "conv2d_transpose_8 (Conv2DTr (None, 128, 128, 3)       3075      \n",
      "_________________________________________________________________\n",
      "batch_normalization_14 (Batc (None, 128, 128, 3)       12        \n",
      "_________________________________________________________________\n",
      "activation_8 (Activation)    (None, 128, 128, 3)       0         \n",
      "=================================================================\n",
      "Total params: 5,517,967\n",
      "Trainable params: 5,515,273\n",
      "Non-trainable params: 2,694\n",
      "_________________________________________________________________\n",
      "None\n"
     ]
    }
   ],
   "source": [
    "def generator():\n",
    "    weight_init = RandomNormal(mean=0.0, stddev=0.02) # as suggested in DCGAN paper\n",
    "    # Image input\n",
    "    input_pic = (128, 128,3)\n",
    "    \n",
    "    model = Sequential()\n",
    "\n",
    "    # Decoder ######\n",
    "    model.add(Conv2D(filters=64, kernel_size=(4,4), strides=(2,2), padding='same',input_shape=input_pic,kernel_initializer=weight_init))\n",
    "    model.add(LeakyReLU(alpha=0.2))  \n",
    "    \n",
    "    model.add(Conv2D(filters=64*2, kernel_size=(4,4), strides=(2,2), padding='same',input_shape=input_pic,kernel_initializer=weight_init))\n",
    "    model.add(BatchNormalization(momentum=0.9)) \n",
    "    model.add(LeakyReLU(alpha=0.2)) \n",
    "    \n",
    "    model.add(Conv2D(filters=64*4, kernel_size=(4,4), strides=(2,2), padding='same',input_shape=input_pic,kernel_initializer=weight_init))\n",
    "    model.add(BatchNormalization(momentum=0.9)) \n",
    "    model.add(LeakyReLU(alpha=0.2)) \n",
    "    \n",
    "    model.add(Conv2D(filters=64*8, kernel_size=(4,4), strides=(2,2), padding='same',input_shape=input_pic,kernel_initializer=weight_init))\n",
    "    model.add(BatchNormalization(momentum=0.9)) \n",
    "    model.add(LeakyReLU(alpha=0.2)) \n",
    "    \n",
    "    \"\"\"model.add(model.add(Conv2D(filters=100, kernel_size=(4,4), strides=(1,1), padding='same',input_shape=input_pic,kernel_initializer=weight_init)))\n",
    "    model.add(BatchNormalization(momentum=0.9)) \n",
    "    model.add(LeakyReLU(alpha=0.2))\"\"\" \n",
    "    \n",
    "    # Encoder ######\n",
    "    \"\"\"model.add(Conv2DTranspose(filters=64*8, kernel_size=(4, 4), strides=(1,1), padding='same',kernel_initializer=weight_init))\n",
    "    model.add(BatchNormalization(momentum=0.9))\n",
    "    model.add(Activation('relu'))\"\"\"\n",
    "    \n",
    "    model.add(Conv2DTranspose(filters=64*4, kernel_size=(4, 4), strides=(2,2), padding='same',kernel_initializer=weight_init))\n",
    "    model.add(BatchNormalization(momentum=0.9))\n",
    "    model.add(Activation('relu'))\n",
    "    \n",
    "    model.add(Conv2DTranspose(filters=64*2, kernel_size=(4, 4), strides=(2,2), padding='same',kernel_initializer=weight_init))\n",
    "    model.add(BatchNormalization(momentum=0.9))\n",
    "    model.add(Activation('relu'))\n",
    "    \n",
    "    model.add(Conv2DTranspose(filters=64, kernel_size=(4, 4), strides=(2,2), padding='same',kernel_initializer=weight_init))\n",
    "    model.add(BatchNormalization(momentum=0.9))\n",
    "    model.add(Activation('sigmoid'))\n",
    "    \n",
    "    model.add(Conv2DTranspose(filters=3, kernel_size=(4, 4), strides=(2,2), padding='same',kernel_initializer=weight_init))\n",
    "    model.add(BatchNormalization(momentum=0.9))\n",
    "    model.add(Activation('sigmoid'))\n",
    "    \n",
    "    return model\n",
    "\n",
    "a = generator()\n",
    "print(a.summary())"
   ]
  },
  {
   "cell_type": "markdown",
   "metadata": {},
   "source": [
    "Let's write the discriminator. "
   ]
  },
  {
   "cell_type": "code",
   "execution_count": 10,
   "metadata": {},
   "outputs": [
    {
     "name": "stdout",
     "output_type": "stream",
     "text": [
      "_________________________________________________________________\n",
      "Layer (type)                 Output Shape              Param #   \n",
      "=================================================================\n",
      "conv2d_11 (Conv2D)           (None, 64, 64, 64)        3136      \n",
      "_________________________________________________________________\n",
      "leaky_re_lu_9 (LeakyReLU)    (None, 64, 64, 64)        0         \n",
      "_________________________________________________________________\n",
      "conv2d_12 (Conv2D)           (None, 32, 32, 128)       131200    \n",
      "_________________________________________________________________\n",
      "batch_normalization_15 (Batc (None, 32, 32, 128)       512       \n",
      "_________________________________________________________________\n",
      "leaky_re_lu_10 (LeakyReLU)   (None, 32, 32, 128)       0         \n",
      "_________________________________________________________________\n",
      "conv2d_13 (Conv2D)           (None, 16, 16, 256)       524544    \n",
      "_________________________________________________________________\n",
      "batch_normalization_16 (Batc (None, 16, 16, 256)       1024      \n",
      "_________________________________________________________________\n",
      "leaky_re_lu_11 (LeakyReLU)   (None, 16, 16, 256)       0         \n",
      "_________________________________________________________________\n",
      "conv2d_14 (Conv2D)           (None, 8, 8, 512)         2097664   \n",
      "_________________________________________________________________\n",
      "batch_normalization_17 (Batc (None, 8, 8, 512)         2048      \n",
      "_________________________________________________________________\n",
      "leaky_re_lu_12 (LeakyReLU)   (None, 8, 8, 512)         0         \n",
      "_________________________________________________________________\n",
      "conv2d_15 (Conv2D)           (None, 8, 8, 1)           8193      \n",
      "=================================================================\n",
      "Total params: 2,768,321\n",
      "Trainable params: 2,766,529\n",
      "Non-trainable params: 1,792\n",
      "_________________________________________________________________\n",
      "None\n"
     ]
    }
   ],
   "source": [
    "def discriminator():\n",
    "    weight_init = RandomNormal(mean=0.0, stddev=0.02) # as suggested in paper\n",
    "    in_shape = (128, 128,3)\n",
    "    model = Sequential()\n",
    "    \n",
    "    model.add(Conv2D(filters=64, kernel_size=(4, 4), strides=(2,2), padding='same',input_shape=in_shape,kernel_initializer=weight_init))\n",
    "    model.add(LeakyReLU(alpha=0.2))\n",
    "    \n",
    "    model.add(Conv2D(filters=64*2, kernel_size=(4, 4), strides=(2,2), padding='same',input_shape=in_shape,kernel_initializer=weight_init))\n",
    "    model.add(BatchNormalization(momentum=0.9))\n",
    "    model.add(LeakyReLU(alpha=0.2))\n",
    "    \n",
    "    model.add(Conv2D(filters=64*4, kernel_size=(4, 4), strides=(2,2), padding='same',input_shape=in_shape,kernel_initializer=weight_init))\n",
    "    model.add(BatchNormalization(momentum=0.9))\n",
    "    model.add(LeakyReLU(alpha=0.2))\n",
    "    \n",
    "    model.add(Conv2D(filters=64*8, kernel_size=(4, 4), strides=(2,2), padding='same',input_shape=in_shape,kernel_initializer=weight_init))\n",
    "    model.add(BatchNormalization(momentum=0.9))\n",
    "    model.add(LeakyReLU(alpha=0.2))\n",
    "    \n",
    "    model.add(Conv2D(filters=1, kernel_size=(4, 4), strides=(1,1), padding='same',input_shape=in_shape,kernel_initializer=weight_init))\n",
    "\n",
    "    return model\n",
    "\n",
    "b = discriminator()\n",
    "print(b.summary())"
   ]
  },
  {
   "cell_type": "markdown",
   "metadata": {},
   "source": [
    "## 3. Train ##\n",
    "### 3.1 Single iteration ###"
   ]
  },
  {
   "cell_type": "markdown",
   "metadata": {},
   "source": [
    "Let's train the model on only one batch, just to make things clear. We are going to use the edge to shoes dataset for now."
   ]
  },
  {
   "cell_type": "code",
   "execution_count": null,
   "metadata": {},
   "outputs": [],
   "source": [
    "Image(url= \"./605_AB.jpg\",width=500, height=250)"
   ]
  },
  {
   "cell_type": "markdown",
   "metadata": {},
   "source": [
    "Picture inside shoes dataset are 512x256 with both edge and full picture. We need first to dissociate this picture in two pictures of size 128x128."
   ]
  },
  {
   "cell_type": "code",
   "execution_count": 14,
   "metadata": {},
   "outputs": [
    {
     "data": {
      "text/plain": [
       "[]"
      ]
     },
     "execution_count": 14,
     "metadata": {},
     "output_type": "execute_result"
    },
    {
     "data": {
      "image/png": "[encoded data removed]",
      "text/plain": [
       "<matplotlib.figure.Figure at 0x114e10860>"
      ]
     },
     "metadata": {
      "needs_background": "light"
     },
     "output_type": "display_data"
    }
   ],
   "source": [
    "import cv2\n",
    "import numpy as np\n",
    "%matplotlib inline\n",
    "import matplotlib.pyplot as plt\n",
    "\n",
    "def read_picture(filename,img_out_size= 128):\n",
    "    image = cv2.imread(filename)\n",
    "    if image is None:\n",
    "        assert(\"error reading picture\")\n",
    "    \n",
    "    imageA = image[:, :256, :]\n",
    "    imageB = image[:, 256:, :]\n",
    "\n",
    "    imageA = cv2.resize(imageA, (img_out_size,img_out_size))\n",
    "    imageB = cv2.resize(imageB, (img_out_size,img_out_size))\n",
    "    \n",
    "    return imageA,imageB\n",
    "\n",
    "X,Y = read_picture('605_AB.jpg')\n",
    "\n",
    "plt.subplot(1, 2, 1)\n",
    "plt.imshow(X)\n",
    "plt.subplot(1, 2, 2)\n",
    "plt.imshow(Y)\n",
    "\n",
    "plt.plot()\n",
    "    \n",
    "    \n",
    "    \n",
    "    \n"
   ]
  },
  {
   "cell_type": "markdown",
   "metadata": {},
   "source": [
    "We also need to normalize the picture:"
   ]
  },
  {
   "cell_type": "code",
   "execution_count": 16,
   "metadata": {},
   "outputs": [],
   "source": [
    "def normalize_picture(img):\n",
    "    # The data is currently in a range [0, 255].\n",
    "    # Transform data to have a range [0, 1].\n",
    "    img = img / 255.\n",
    "    return img\n",
    "\n",
    "X = normalize_picture(X)\n",
    "Y = normalize_picture(Y)"
   ]
  },
  {
   "cell_type": "markdown",
   "metadata": {},
   "source": [
    "Ok, we have two picture, on from domain A, and one from domain B. We need a function that will create the batch:"
   ]
  },
  {
   "cell_type": "code",
   "execution_count": 106,
   "metadata": {},
   "outputs": [
    {
     "name": "stdout",
     "output_type": "stream",
     "text": [
      "(128, 128, 128, 3)\n",
      "49825\n"
     ]
    }
   ],
   "source": [
    "import os,fnmatch\n",
    "\n",
    "\n",
    "image_paths = \"./edges2shoes/train\"\n",
    "data = fnmatch.filter(os.listdir(image_paths), '*.jpg')\n",
    "\n",
    "def batch_creation(batch_size,batch_idx):\n",
    "    # get 64 pictures from the files\n",
    "    process_batchA = []\n",
    "    process_batchB = []\n",
    "    current_pic = data[batch_idx*batch_size:batch_idx*batch_size+batch_size]\n",
    "    \n",
    "    #print(current_pic)\n",
    "    # call read picture\n",
    "    for i in range(len(current_pic)):\n",
    "        filename = os.path.join(image_paths, current_pic[i])\n",
    "        A,B = read_picture(filename)\n",
    "        # normalize picture\n",
    "        A = normalize_picture(A)\n",
    "        B = normalize_picture(B)\n",
    "        #append 2 pic in a list\n",
    "        process_batchA.append(A)\n",
    "        process_batchB.append(B)\n",
    "    \n",
    "    return process_batchA, process_batchB\n",
    "        \n",
    "    \n",
    "batch_size = 128    \n",
    "batchA, batchB = batch_creation(batch_size,0)\n",
    "batchA = np.asarray(batchA)\n",
    "batchB = np.asarray(batchB)\n",
    "print(batchA.shape)\n",
    "print(len(data))"
   ]
  },
  {
   "cell_type": "markdown",
   "metadata": {},
   "source": [
    "We should have two batches of 64 pictures for domain A and domain B."
   ]
  },
  {
   "cell_type": "markdown",
   "metadata": {},
   "source": [
    "Let's create and compile dicriminators and generators:"
   ]
  },
  {
   "cell_type": "code",
   "execution_count": 76,
   "metadata": {},
   "outputs": [],
   "source": [
    "disc_optimizer = Adam(lr=0.0002, beta_1=0.5)\n",
    "\n",
    "discriA = discriminator()\n",
    "discriB = discriminator()\n",
    "discriA.compile(loss='mse',optimizer=disc_optimizer,metrics=['accuracy'])\n",
    "discriB.compile(loss='mse',optimizer=disc_optimizer,metrics=['accuracy'])"
   ]
  },
  {
   "cell_type": "markdown",
   "metadata": {},
   "source": [
    "Create combined model for generator:"
   ]
  },
  {
   "cell_type": "code",
   "execution_count": null,
   "metadata": {},
   "outputs": [],
   "source": [
    "gen_AB = generator()\n",
    "gen_BA = generator()\n",
    "\n",
    "\n",
    "\n",
    "# Input images(real)\n",
    "img_A = Input((128,128,3))\n",
    "img_B = Input((128,128,3))\n",
    "\n",
    "# Translate images to the other domain\n",
    "fake_B = gen_AB(img_A)\n",
    "fake_A = gen_BA(img_B)\n",
    "\n",
    "# back to original domain\n",
    "back_A = gen_BA(fake_B)\n",
    "back_B = gen_AB(fake_A)\n",
    "\n",
    "# For the combined model we will only train the generators\n",
    "discriA.trainable = False\n",
    "discriB.trainable = False\n",
    "\n",
    "# Discriminators determines validity of translated images\n",
    "valid_A = discriA(fake_A)\n",
    "valid_B = discriB(fake_B)\n",
    "\n",
    "combined = Model(inputs=[img_A, img_B],\n",
    "                              outputs=[ valid_A, valid_B,\n",
    "                                        fake_B, fake_A,\n",
    "                                        back_A, back_B ])\n",
    "combined.compile(loss=['mse', 'mse',\n",
    "                            'mae', 'mae',\n",
    "                            'mae', 'mae'],\n",
    "                      optimizer=disc_optimizer)\n",
    "\n",
    "combined.summary()\n"
   ]
  },
  {
   "cell_type": "markdown",
   "metadata": {},
   "source": [
    "Train the discriminators first :"
   ]
  },
  {
   "cell_type": "code",
   "execution_count": 78,
   "metadata": {},
   "outputs": [
    {
     "name": "stderr",
     "output_type": "stream",
     "text": [
      "/usr/local/lib/python3.6/site-packages/keras/engine/training.py:973: UserWarning: Discrepancy between trainable weights and collected trainable weights, did you set `model.trainable` without calling `model.compile` after ?\n",
      "  'Discrepancy between trainable weights and collected trainable'\n"
     ]
    }
   ],
   "source": [
    "# Adversarial loss ground truths\n",
    "patch = int(128 / 2**4)\n",
    "d_patch = (patch, patch, 1)\n",
    "\n",
    "valid = np.ones((batch_size,) + d_patch)\n",
    "fake = np.zeros((batch_size,) + d_patch)\n",
    "\n",
    "\n",
    "generated_B = gen_AB.predict(batchA) #used to train Db\n",
    "generated_A = gen_BA.predict(batchB) #used to train Da\n",
    "\n",
    "# Train the discriminators (real classified as ones and generated as zeros)\n",
    "dlossA_real = discriA.train_on_batch(batchA, valid)\n",
    "dlossA_fake = discriA.train_on_batch(generated_A, fake)\n",
    "dA_loss = 0.5 * np.add(dlossA_real, dlossA_fake)\n",
    "\n",
    "dlossB_real = discriA.train_on_batch(batchB, valid)\n",
    "dlossB_fake = discriA.train_on_batch(generated_B, fake)\n",
    "dB_loss = 0.5 * np.add(dlossB_real, dlossB_fake)\n",
    "\n",
    "# Total disciminator loss\n",
    "d_loss = 0.5 * np.add(dA_loss, dB_loss)\n",
    "\n"
   ]
  },
  {
   "cell_type": "markdown",
   "metadata": {},
   "source": [
    "Then train the discriminators:"
   ]
  },
  {
   "cell_type": "code",
   "execution_count": 79,
   "metadata": {},
   "outputs": [],
   "source": [
    "g_loss = combined.train_on_batch([batchA, batchB], [valid, valid,batchB, batchA,batchA, batchB]) "
   ]
  },
  {
   "cell_type": "markdown",
   "metadata": {},
   "source": [
    "Done, we just train the whole model on one batch of picture A and one batcof picture B. Let's add some loops to wrap up eveything"
   ]
  },
  {
   "cell_type": "markdown",
   "metadata": {},
   "source": [
    "### 3.2 full train ###"
   ]
  },
  {
   "cell_type": "markdown",
   "metadata": {},
   "source": [
    "Create first the routine to save generated images:"
   ]
  },
  {
   "cell_type": "code",
   "execution_count": 114,
   "metadata": {},
   "outputs": [],
   "source": [
    "def save_images(epoch, batch):\n",
    "    r, c = 2, 3\n",
    "    \n",
    "    batchA, batchB = batch_creation(1,batch_idx)\n",
    "\n",
    "    batchA = np.asarray(batchA)\n",
    "    batchB = np.asarray(batchB)\n",
    "    \n",
    "    # Translate images to the other domain\n",
    "    fake_B = gen_AB.predict(batchA)\n",
    "    fake_A = gen_BA.predict(batchB)\n",
    "    \n",
    "    # Translate back to original domain\n",
    "    back_A = gen_BA.predict(fake_B)\n",
    "    back_B = gen_AB.predict(fake_A)\n",
    "\n",
    "    gen_imgs = np.concatenate([batchA, fake_B, back_A, batchB, fake_A, back_B])\n",
    "    \n",
    "    # Rescale images\n",
    "    #gen_imgs = gen_imgs * 255\n",
    "    gen_imgs = 0.5 * gen_imgs + 0.5\n",
    "    \n",
    "    titles = ['Original', 'Translated', 'Reconstructed']\n",
    "    fig, axs = plt.subplots(r, c)\n",
    "    cnt = 0\n",
    "    for i in range(r):\n",
    "        for j in range(c):\n",
    "            axs[i,j].imshow(gen_imgs[cnt])\n",
    "            axs[i, j].set_title(titles[j])\n",
    "            axs[i,j].axis('off')\n",
    "            cnt += 1\n",
    "    fig.savefig(\"generated_shoes/%d_%d.png\" % (epoch, batch_idx))\n",
    "    plt.close()\n",
    "    \n",
    "    \n"
   ]
  },
  {
   "cell_type": "code",
   "execution_count": 113,
   "metadata": {},
   "outputs": [
    {
     "name": "stderr",
     "output_type": "stream",
     "text": [
      "/usr/local/lib/python3.6/site-packages/keras/engine/training.py:973: UserWarning: Discrepancy between trainable weights and collected trainable weights, did you set `model.trainable` without calling `model.compile` after ?\n",
      "  'Discrepancy between trainable weights and collected trainable'\n"
     ]
    },
    {
     "name": "stdout",
     "output_type": "stream",
     "text": [
      "[0] [0/389], [d_loss: 3.182958, g_loss: 6.602124]\n"
     ]
    },
    {
     "ename": "NameError",
     "evalue": "name 'save_images' is not defined",
     "output_type": "error",
     "traceback": [
      "\u001b[0;31m---------------------------------------------------------------------------\u001b[0m",
      "\u001b[0;31mNameError\u001b[0m                                 Traceback (most recent call last)",
      "\u001b[0;32m<ipython-input-113-ad9db34feb56>\u001b[0m in \u001b[0;36m<module>\u001b[0;34m()\u001b[0m\n\u001b[1;32m     32\u001b[0m         \u001b[0;31m# If at save interval => save generated image samples\u001b[0m\u001b[0;34m\u001b[0m\u001b[0;34m\u001b[0m\u001b[0m\n\u001b[1;32m     33\u001b[0m         \u001b[0;32mif\u001b[0m \u001b[0mbatch_idx\u001b[0m \u001b[0;34m%\u001b[0m \u001b[0;36m30\u001b[0m \u001b[0;34m==\u001b[0m \u001b[0;36m0\u001b[0m\u001b[0;34m:\u001b[0m\u001b[0;34m\u001b[0m\u001b[0m\n\u001b[0;32m---> 34\u001b[0;31m             \u001b[0msave_images\u001b[0m\u001b[0;34m(\u001b[0m\u001b[0mepoch\u001b[0m\u001b[0;34m,\u001b[0m \u001b[0mbatch_idx\u001b[0m\u001b[0;34m)\u001b[0m\u001b[0;34m\u001b[0m\u001b[0m\n\u001b[0m\u001b[1;32m     35\u001b[0m \u001b[0;34m\u001b[0m\u001b[0m\n\u001b[1;32m     36\u001b[0m \u001b[0;34m\u001b[0m\u001b[0m\n",
      "\u001b[0;31mNameError\u001b[0m: name 'save_images' is not defined"
     ]
    }
   ],
   "source": [
    "batch_size = 128   \n",
    "epoch_size = 20\n",
    "num_examples = len(data)\n",
    "num_batches = int(num_examples / float(batch_size)) # around 389 batches\n",
    "\n",
    "\n",
    "for epoch in range(epoch_size):\n",
    "    for batch_idx in range(num_batches):\n",
    "        batchA, batchB = batch_creation(batch_size,batch_idx)\n",
    "        batchA = np.asarray(batchA)\n",
    "        batchB = np.asarray(batchB)\n",
    "        \n",
    "        # Train the discriminators (real classified as ones and generated as zeros)\n",
    "        dlossA_real = discriA.train_on_batch(batchA, valid)\n",
    "        dlossA_fake = discriA.train_on_batch(generated_A, fake)\n",
    "        dA_loss = 0.5 * np.add(dlossA_real, dlossA_fake)\n",
    "\n",
    "        dlossB_real = discriA.train_on_batch(batchB, valid)\n",
    "        dlossB_fake = discriA.train_on_batch(generated_B, fake)\n",
    "        dB_loss = 0.5 * np.add(dlossB_real, dlossB_fake)\n",
    "\n",
    "        # Total disciminator loss\n",
    "        d_loss = 0.5 * np.add(dA_loss, dB_loss)\n",
    "        \n",
    "        \n",
    "        g_loss = combined.train_on_batch([batchA, batchB], [valid, valid,batchB, batchA,batchA, batchB]) \n",
    "\n",
    "        print (\"[%d] [%d/%d], [d_loss: %f, g_loss: %f]\" % (epoch, batch_idx,\n",
    "                                                                        num_batches,\n",
    "                                                                        d_loss[0], g_loss[0]))\n",
    "\n",
    "        # If at save interval => save generated image samples\n",
    "        if batch_idx % 30 == 0:\n",
    "            save_images(epoch, batch_idx)\n",
    "\n",
    "        \n"
   ]
  },
  {
   "cell_type": "code",
   "execution_count": null,
   "metadata": {},
   "outputs": [],
   "source": []
  }
 ],
 "metadata": {
  "kernelspec": {
   "display_name": "Python 3",
   "language": "python",
   "name": "python3"
  },
  "language_info": {
   "codemirror_mode": {
    "name": "ipython",
    "version": 3
   },
   "file_extension": ".py",
   "mimetype": "text/x-python",
   "name": "python",
   "nbconvert_exporter": "python",
   "pygments_lexer": "ipython3",
   "version": "3.7.3"
  }
 },
 "nbformat": 4,
 "nbformat_minor": 2
}
